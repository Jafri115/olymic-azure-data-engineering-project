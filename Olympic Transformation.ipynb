{
 "cells": [
  {
   "cell_type": "markdown",
   "metadata": {
    "application/vnd.databricks.v1+cell": {
     "cellMetadata": {},
     "inputWidgets": {},
     "nuid": "7fd2724e-fdbd-40b0-afd8-720132c0cc07",
     "showTitle": false,
     "tableResultSettingsMap": {},
     "title": ""
    }
   },
   "source": [
    "# Advanced PySpark Data Transformation Notebook for Olympic Dataset"
   ]
  },
  {
   "cell_type": "markdown",
   "metadata": {
    "application/vnd.databricks.v1+cell": {
     "cellMetadata": {},
     "inputWidgets": {},
     "nuid": "07ba04bb-ba86-40a1-8504-585a96067b81",
     "showTitle": false,
     "tableResultSettingsMap": {},
     "title": ""
    }
   },
   "source": [
    "## Import required libraries and create Spark session"
   ]
  },
  {
   "cell_type": "code",
   "execution_count": 0,
   "metadata": {
    "application/vnd.databricks.v1+cell": {
     "cellMetadata": {
      "byteLimit": 2048000,
      "rowLimit": 10000
     },
     "inputWidgets": {},
     "nuid": "dbc32fba-35bf-44f7-a26e-59186eff42bf",
     "showTitle": false,
     "tableResultSettingsMap": {},
     "title": ""
    }
   },
   "outputs": [],
   "source": [
    "\n",
    "from pyspark.sql.functions import col\n",
    "from pyspark.sql.types import IntegerType, DoubleType, BooleanType, DateType\n",
    "from pyspark.sql import SparkSession\n",
    "from pyspark.sql.functions import col, when, expr, count, lit, struct, array, size, sum as spark_sum, avg, rank, countDistinct\n",
    "from pyspark.sql.window import Window"
   ]
  },
  {
   "cell_type": "markdown",
   "metadata": {
    "application/vnd.databricks.v1+cell": {
     "cellMetadata": {},
     "inputWidgets": {},
     "nuid": "ec4f1bd9-ee31-4199-8027-83da317940a0",
     "showTitle": false,
     "tableResultSettingsMap": {},
     "title": ""
    }
   },
   "source": [
    "## Load all tables"
   ]
  },
  {
   "cell_type": "code",
   "execution_count": 0,
   "metadata": {
    "application/vnd.databricks.v1+cell": {
     "cellMetadata": {
      "byteLimit": 2048000,
      "rowLimit": 10000
     },
     "inputWidgets": {},
     "nuid": "46e849f4-4286-4c2d-a918-6fd3a2a31694",
     "showTitle": false,
     "tableResultSettingsMap": {},
     "title": ""
    }
   },
   "outputs": [
    {
     "name": "stdout",
     "output_type": "stream",
     "text": [
      "Out[2]: True"
     ]
    }
   ],
   "source": [
    "\n",
    "configs = {\"fs.azure.account.auth.type\": \"OAuth\",\n",
    "\"fs.azure.account.oauth.provider.type\": \"org.apache.hadoop.fs.azurebfs.oauth2.ClientCredsTokenProvider\",\n",
    "\"fs.azure.account.oauth2.client.id\": \"\",\n",
    "\"fs.azure.account.oauth2.client.secret\": '',\n",
    "\"fs.azure.account.oauth2.client.endpoint\": \"https://login.microsoftonline.com//oauth2/token\"}\n",
    "\n",
    "\n",
    "dbutils.fs.mount(\n",
    "source = \"abfss://tokyo-olympic-data@tokyoolympicdatajafri.dfs.core.windows.net\", \n",
    "mount_point = \"/mnt/tokyoolymic\",\n",
    "extra_configs = configs)"
   ]
  },
  {
   "cell_type": "code",
   "execution_count": 0,
   "metadata": {
    "application/vnd.databricks.v1+cell": {
     "cellMetadata": {
      "byteLimit": 2048000,
      "rowLimit": 10000
     },
     "inputWidgets": {},
     "nuid": "3d940482-3bf2-4543-818c-c18611cbcb4c",
     "showTitle": false,
     "tableResultSettingsMap": {},
     "title": ""
    }
   },
   "outputs": [
    {
     "data": {
      "text/html": [
       "<style scoped>\n",
       "  .table-result-container {\n",
       "    max-height: 300px;\n",
       "    overflow: auto;\n",
       "  }\n",
       "  table, th, td {\n",
       "    border: 1px solid black;\n",
       "    border-collapse: collapse;\n",
       "  }\n",
       "  th, td {\n",
       "    padding: 5px;\n",
       "  }\n",
       "  th {\n",
       "    text-align: left;\n",
       "  }\n",
       "</style><div class='table-result-container'><table class='table-result'><thead style='background-color: white'><tr><th>path</th><th>name</th><th>size</th><th>modificationTime</th></tr></thead><tbody><tr><td>dbfs:/mnt/tokyoolymic/raw-data/</td><td>raw-data/</td><td>0</td><td>1745632020000</td></tr><tr><td>dbfs:/mnt/tokyoolymic/transformed-data/</td><td>transformed-data/</td><td>0</td><td>1745632041000</td></tr></tbody></table></div>"
      ]
     },
     "metadata": {
      "application/vnd.databricks.v1+output": {
       "addedWidgets": {},
       "aggData": [],
       "aggError": "",
       "aggOverflow": false,
       "aggSchema": [],
       "aggSeriesLimitReached": false,
       "aggType": "",
       "arguments": {},
       "columnCustomDisplayInfos": {},
       "data": [
        [
         "dbfs:/mnt/tokyoolymic/raw-data/",
         "raw-data/",
         0,
         1745632020000
        ],
        [
         "dbfs:/mnt/tokyoolymic/transformed-data/",
         "transformed-data/",
         0,
         1745632041000
        ]
       ],
       "datasetInfos": [],
       "dbfsResultPath": null,
       "isJsonSchema": true,
       "metadata": {
        "isDbfsCommandResult": false
       },
       "overflow": false,
       "plotOptions": {
        "customPlotOptions": {},
        "displayType": "table",
        "pivotAggregation": null,
        "pivotColumns": null,
        "xColumns": null,
        "yColumns": null
       },
       "removedWidgets": [],
       "schema": [
        {
         "metadata": "{}",
         "name": "path",
         "type": "\"string\""
        },
        {
         "metadata": "{}",
         "name": "name",
         "type": "\"string\""
        },
        {
         "metadata": "{}",
         "name": "size",
         "type": "\"long\""
        },
        {
         "metadata": "{}",
         "name": "modificationTime",
         "type": "\"long\""
        }
       ],
       "type": "table"
      }
     },
     "output_type": "display_data"
    }
   ],
   "source": [
    "\n",
    "\n",
    "%fs\n",
    "ls \"/mnt/tokyoolymic\""
   ]
  },
  {
   "cell_type": "code",
   "execution_count": 0,
   "metadata": {
    "application/vnd.databricks.v1+cell": {
     "cellMetadata": {
      "byteLimit": 2048000,
      "rowLimit": 10000
     },
     "inputWidgets": {},
     "nuid": "ffd216b4-c034-49ff-853f-844c749fb626",
     "showTitle": false,
     "tableResultSettingsMap": {},
     "title": ""
    }
   },
   "outputs": [
    {
     "data": {
      "text/html": [
       "\n",
       "            <div>\n",
       "                <p><b>SparkSession - hive</b></p>\n",
       "                \n",
       "        <div>\n",
       "            <p><b>SparkContext</b></p>\n",
       "\n",
       "            <p><a href=\"/?o=3076902013728824#setting/sparkui/0426-150509-olgs1x4y/driver-2797474428102083934\">Spark UI</a></p>\n",
       "\n",
       "            <dl>\n",
       "              <dt>Version</dt>\n",
       "                <dd><code>v3.3.2</code></dd>\n",
       "              <dt>Master</dt>\n",
       "                <dd><code>local[*, 4]</code></dd>\n",
       "              <dt>AppName</dt>\n",
       "                <dd><code>Databricks Shell</code></dd>\n",
       "            </dl>\n",
       "        </div>\n",
       "        \n",
       "            </div>\n",
       "        "
      ]
     },
     "metadata": {
      "application/vnd.databricks.v1+output": {
       "addedWidgets": {},
       "arguments": {},
       "data": "\n            <div>\n                <p><b>SparkSession - hive</b></p>\n                \n        <div>\n            <p><b>SparkContext</b></p>\n\n            <p><a href=\"/?o=3076902013728824#setting/sparkui/0426-150509-olgs1x4y/driver-2797474428102083934\">Spark UI</a></p>\n\n            <dl>\n              <dt>Version</dt>\n                <dd><code>v3.3.2</code></dd>\n              <dt>Master</dt>\n                <dd><code>local[*, 4]</code></dd>\n              <dt>AppName</dt>\n                <dd><code>Databricks Shell</code></dd>\n            </dl>\n        </div>\n        \n            </div>\n        ",
       "datasetInfos": [],
       "metadata": {},
       "removedWidgets": [],
       "textData": null,
       "type": "htmlSandbox"
      }
     },
     "output_type": "display_data"
    }
   ],
   "source": [
    "spark"
   ]
  },
  {
   "cell_type": "code",
   "execution_count": 0,
   "metadata": {
    "application/vnd.databricks.v1+cell": {
     "cellMetadata": {
      "byteLimit": 2048000,
      "rowLimit": 10000
     },
     "inputWidgets": {},
     "nuid": "32f7fc2a-b8d2-46de-b74f-6d902d286766",
     "showTitle": false,
     "tableResultSettingsMap": {},
     "title": ""
    }
   },
   "outputs": [
    {
     "name": "stdout",
     "output_type": "stream",
     "text": [
      "+--------------------+--------------------+-------------------+\n",
      "|          PersonName|             Country|         Discipline|\n",
      "+--------------------+--------------------+-------------------+\n",
      "|     AALERUD Katrine|              Norway|       Cycling Road|\n",
      "|         ABAD Nestor|               Spain|Artistic Gymnastics|\n",
      "|   ABAGNALE Giovanni|               Italy|             Rowing|\n",
      "|      ABALDE Alberto|               Spain|         Basketball|\n",
      "|       ABALDE Tamara|               Spain|         Basketball|\n",
      "|           ABALO Luc|              France|           Handball|\n",
      "|        ABAROA Cesar|               Chile|             Rowing|\n",
      "|       ABASS Abobakr|               Sudan|           Swimming|\n",
      "|    ABBASALI Hamideh|Islamic Republic ...|             Karate|\n",
      "|       ABBASOV Islam|          Azerbaijan|          Wrestling|\n",
      "|        ABBINGH Lois|         Netherlands|           Handball|\n",
      "|         ABBOT Emily|           Australia|Rhythmic Gymnastics|\n",
      "|       ABBOTT Monica|United States of ...|  Baseball/Softball|\n",
      "|ABDALLA Abubaker ...|               Qatar|          Athletics|\n",
      "|      ABDALLA Maryam|               Egypt|  Artistic Swimming|\n",
      "|      ABDALLAH Shahd|               Egypt|  Artistic Swimming|\n",
      "| ABDALRASOOL Mohamed|               Sudan|               Judo|\n",
      "|   ABDEL LATIF Radwa|               Egypt|           Shooting|\n",
      "|    ABDEL RAZEK Samy|               Egypt|           Shooting|\n",
      "|   ABDELAZIZ Abdalla|               Egypt|             Karate|\n",
      "+--------------------+--------------------+-------------------+\n",
      "only showing top 20 rows\n",
      "\n"
     ]
    }
   ],
   "source": [
    "athletes = spark.read.format(\"csv\").option(\"header\",\"true\").option(\"inferSchema\",\"true\").load(\"/mnt/tokyoolymic/raw-data/athletes.csv\")\n",
    "coaches = spark.read.format(\"csv\").option(\"header\",\"true\").option(\"inferSchema\",\"true\").load(\"/mnt/tokyoolymic/raw-data/coaches.csv\")\n",
    "entriesgender = spark.read.format(\"csv\").option(\"header\",\"true\").option(\"inferSchema\",\"true\").load(\"/mnt/tokyoolymic/raw-data/entriesgender.csv\")\n",
    "medals = spark.read.format(\"csv\").option(\"header\",\"true\").option(\"inferSchema\",\"true\").load(\"/mnt/tokyoolymic/raw-data/medals.csv\")\n",
    "teams = spark.read.format(\"csv\").option(\"header\",\"true\").option(\"inferSchema\",\"true\").load(\"/mnt/tokyoolymic/raw-data/teams.csv\")\n",
    "     \n",
    "\n",
    "athletes.show()\n",
    "     "
   ]
  },
  {
   "cell_type": "code",
   "execution_count": 0,
   "metadata": {
    "application/vnd.databricks.v1+cell": {
     "cellMetadata": {
      "byteLimit": 2048000,
      "rowLimit": 10000
     },
     "inputWidgets": {},
     "nuid": "19e89986-4973-4b2c-adb5-1c3434aa5604",
     "showTitle": false,
     "tableResultSettingsMap": {},
     "title": ""
    }
   },
   "outputs": [
    {
     "name": "stdout",
     "output_type": "stream",
     "text": [
      "root\n",
      " |-- PersonName: string (nullable = true)\n",
      " |-- Country: string (nullable = true)\n",
      " |-- Discipline: string (nullable = true)\n",
      "\n"
     ]
    }
   ],
   "source": [
    "athletes.printSchema()"
   ]
  },
  {
   "cell_type": "code",
   "execution_count": 0,
   "metadata": {
    "application/vnd.databricks.v1+cell": {
     "cellMetadata": {
      "byteLimit": 2048000,
      "rowLimit": 10000
     },
     "inputWidgets": {},
     "nuid": "02d0fb32-ffe9-4277-a05a-19b1fa4639a8",
     "showTitle": false,
     "tableResultSettingsMap": {},
     "title": ""
    }
   },
   "outputs": [
    {
     "name": "stdout",
     "output_type": "stream",
     "text": [
      "+--------------------+--------------------+-----------------+--------+\n",
      "|                Name|             Country|       Discipline|   Event|\n",
      "+--------------------+--------------------+-----------------+--------+\n",
      "|     ABDELMAGID Wael|               Egypt|         Football|    null|\n",
      "|           ABE Junya|               Japan|       Volleyball|    null|\n",
      "|       ABE Katsuhiko|               Japan|       Basketball|    null|\n",
      "|        ADAMA Cherif|       C�te d'Ivoire|         Football|    null|\n",
      "|          AGEBA Yuya|               Japan|       Volleyball|    null|\n",
      "|AIKMAN Siegfried ...|               Japan|           Hockey|     Men|\n",
      "|       AL SAADI Kais|             Germany|           Hockey|     Men|\n",
      "|       ALAMEDA Lonni|              Canada|Baseball/Softball|Softball|\n",
      "|     ALEKNO Vladimir|Islamic Republic ...|       Volleyball|     Men|\n",
      "|     ALEKSEEV Alexey|                 ROC|         Handball|   Women|\n",
      "|ALLER CARBALLO Ma...|               Spain|       Basketball|    null|\n",
      "|       ALSHEHRI Saad|        Saudi Arabia|         Football|     Men|\n",
      "|           ALY Kamal|               Egypt|         Football|    null|\n",
      "| AMAYA GAITAN Fabian|         Puerto Rico|       Basketball|    null|\n",
      "|    AMO AGUADO Pablo|               Spain|         Football|    null|\n",
      "|   ANDONOVSKI Vlatko|United States of ...|         Football|   Women|\n",
      "|        ANNAN Alyson|         Netherlands|           Hockey|   Women|\n",
      "|  ARNAU CREUS Xavier|               Japan|           Hockey|   Women|\n",
      "|       ARNOLD Graham|           Australia|         Football|     Men|\n",
      "|         AXNER Tomas|              Sweden|         Handball|   Women|\n",
      "+--------------------+--------------------+-----------------+--------+\n",
      "only showing top 20 rows\n",
      "\n"
     ]
    }
   ],
   "source": [
    "coaches.show()"
   ]
  },
  {
   "cell_type": "markdown",
   "metadata": {
    "application/vnd.databricks.v1+cell": {
     "cellMetadata": {},
     "inputWidgets": {},
     "nuid": "0c2bfc89-7d1d-4780-83c0-d662ad2172e3",
     "showTitle": false,
     "tableResultSettingsMap": {},
     "title": ""
    }
   },
   "source": [
    "## Standardize column names (remove spaces, special characters)"
   ]
  },
  {
   "cell_type": "code",
   "execution_count": 0,
   "metadata": {
    "application/vnd.databricks.v1+cell": {
     "cellMetadata": {
      "byteLimit": 2048000,
      "rowLimit": 10000
     },
     "inputWidgets": {},
     "nuid": "3a59135b-6a52-4449-a0f3-69bde25e8b5b",
     "showTitle": false,
     "tableResultSettingsMap": {},
     "title": ""
    }
   },
   "outputs": [],
   "source": [
    "def standardize_cols(df):\n",
    "    for old_name in df.columns:\n",
    "        df = df.withColumnRenamed(old_name, old_name.strip().replace(\" \", \"_\").replace(\"-\", \"_\"))\n",
    "    return df\n",
    "\n",
    "athletes = standardize_cols(athletes)\n",
    "coaches = standardize_cols(coaches)\n",
    "entriesgender = standardize_cols(entriesgender)\n",
    "medals = standardize_cols(medals)\n",
    "teams = standardize_cols(teams)\n"
   ]
  },
  {
   "cell_type": "markdown",
   "metadata": {
    "application/vnd.databricks.v1+cell": {
     "cellMetadata": {},
     "inputWidgets": {},
     "nuid": "69480131-47f0-45d8-bdf1-542038b883e5",
     "showTitle": false,
     "tableResultSettingsMap": {},
     "title": ""
    }
   },
   "source": [
    "## Cast numeric columns to correct types"
   ]
  },
  {
   "cell_type": "code",
   "execution_count": 0,
   "metadata": {
    "application/vnd.databricks.v1+cell": {
     "cellMetadata": {
      "byteLimit": 2048000,
      "rowLimit": 10000
     },
     "inputWidgets": {},
     "nuid": "cd54914b-729a-4b4d-9622-e19f3b2f970e",
     "showTitle": false,
     "tableResultSettingsMap": {},
     "title": ""
    }
   },
   "outputs": [],
   "source": [
    "entriesgender = entriesgender.withColumn(\"Female\", col(\"Female\").cast(\"int\")) \\\n",
    "                             .withColumn(\"Male\", col(\"Male\").cast(\"int\")) \\\n",
    "                             .withColumn(\"Total\", col(\"Total\").cast(\"int\"))\n",
    "\n",
    "medals = medals.withColumn(\"Gold\", col(\"Gold\").cast(\"int\")) \\\n",
    "               .withColumn(\"Silver\", col(\"Silver\").cast(\"int\")) \\\n",
    "               .withColumn(\"Bronze\", col(\"Bronze\").cast(\"int\")) \\\n",
    "               .withColumn(\"Total\", col(\"Total\").cast(\"int\")) \\\n",
    "               .withColumn(\"Rank\", col(\"Rank\").cast(\"int\")) \\\n",
    "               .withColumn(\"Rank_by_Total\", col(\"Rank_by_Total\").cast(\"int\"))\n"
   ]
  },
  {
   "cell_type": "markdown",
   "metadata": {
    "application/vnd.databricks.v1+cell": {
     "cellMetadata": {},
     "inputWidgets": {},
     "nuid": "7ac25374-f3f0-4cda-8756-3685fab5a6d0",
     "showTitle": false,
     "tableResultSettingsMap": {},
     "title": ""
    }
   },
   "source": [
    "## Find countries participating in the most disciplines"
   ]
  },
  {
   "cell_type": "code",
   "execution_count": 0,
   "metadata": {
    "application/vnd.databricks.v1+cell": {
     "cellMetadata": {
      "byteLimit": 2048000,
      "rowLimit": 10000
     },
     "inputWidgets": {},
     "nuid": "2c17f521-f280-4023-951d-c5a17292d1c0",
     "showTitle": false,
     "tableResultSettingsMap": {},
     "title": ""
    }
   },
   "outputs": [
    {
     "name": "stdout",
     "output_type": "stream",
     "text": [
      "+--------------------+---------------+\n",
      "|             Country|Num_Disciplines|\n",
      "+--------------------+---------------+\n",
      "|United States of ...|            615|\n",
      "|               Japan|            586|\n",
      "|           Australia|            470|\n",
      "|People's Republic...|            401|\n",
      "|             Germany|            400|\n",
      "|              France|            377|\n",
      "|              Canada|            368|\n",
      "|       Great Britain|            366|\n",
      "|               Italy|            356|\n",
      "|               Spain|            324|\n",
      "|                 ROC|            318|\n",
      "|              Brazil|            291|\n",
      "|         Netherlands|            274|\n",
      "|   Republic of Korea|            223|\n",
      "|         New Zealand|            202|\n",
      "|              Poland|            195|\n",
      "|           Argentina|            180|\n",
      "|        South Africa|            171|\n",
      "|              Mexico|            155|\n",
      "|             Hungary|            155|\n",
      "+--------------------+---------------+\n",
      "only showing top 20 rows\n",
      "\n"
     ]
    }
   ],
   "source": [
    "country_disciplines = athletes.groupBy(\"Country\").agg(count(\"Discipline\").alias(\"Num_Disciplines\"))\n",
    "country_disciplines.orderBy(col(\"Num_Disciplines\").desc()).show()\n"
   ]
  },
  {
   "cell_type": "markdown",
   "metadata": {
    "application/vnd.databricks.v1+cell": {
     "cellMetadata": {},
     "inputWidgets": {},
     "nuid": "df5e9657-e3a9-41ea-a20e-a2afe323b72c",
     "showTitle": false,
     "tableResultSettingsMap": {},
     "title": ""
    }
   },
   "source": [
    "## How many coaches per country"
   ]
  },
  {
   "cell_type": "code",
   "execution_count": 0,
   "metadata": {
    "application/vnd.databricks.v1+cell": {
     "cellMetadata": {
      "byteLimit": 2048000,
      "rowLimit": 10000
     },
     "inputWidgets": {},
     "nuid": "4d9f172c-9de7-4a9e-a1c3-76041205f97b",
     "showTitle": false,
     "tableResultSettingsMap": {},
     "title": ""
    }
   },
   "outputs": [
    {
     "name": "stdout",
     "output_type": "stream",
     "text": [
      "+--------------------+-----------+\n",
      "|             Country|Num_Coaches|\n",
      "+--------------------+-----------+\n",
      "|Islamic Republic ...|          2|\n",
      "|              Sweden|          3|\n",
      "|   Republic of Korea|          7|\n",
      "|                Fiji|          2|\n",
      "|              Turkey|          1|\n",
      "|             Germany|          9|\n",
      "|            Cambodia|          1|\n",
      "|              France|         10|\n",
      "|              Greece|          6|\n",
      "|            Slovakia|          1|\n",
      "|           Argentina|         11|\n",
      "|             Belgium|          5|\n",
      "|              Angola|          1|\n",
      "|       Great Britain|          7|\n",
      "|          San Marino|          2|\n",
      "|               India|          5|\n",
      "|             Belarus|          1|\n",
      "|         Puerto Rico|          3|\n",
      "|               Chile|          6|\n",
      "|             Croatia|          1|\n",
      "+--------------------+-----------+\n",
      "only showing top 20 rows\n",
      "\n"
     ]
    }
   ],
   "source": [
    "coaches_per_country = coaches.groupBy(\"Country\").agg(count(\"*\").alias(\"Num_Coaches\"))\n",
    "coaches_per_country.show()\n"
   ]
  },
  {
   "cell_type": "markdown",
   "metadata": {
    "application/vnd.databricks.v1+cell": {
     "cellMetadata": {},
     "inputWidgets": {},
     "nuid": "85fbaaff-8f9d-41fa-982c-f0995b68a686",
     "showTitle": false,
     "tableResultSettingsMap": {},
     "title": ""
    }
   },
   "source": [
    "## Merge athlete and coach data by country"
   ]
  },
  {
   "cell_type": "code",
   "execution_count": 0,
   "metadata": {
    "application/vnd.databricks.v1+cell": {
     "cellMetadata": {
      "byteLimit": 2048000,
      "rowLimit": 10000
     },
     "inputWidgets": {},
     "nuid": "fbedd63d-598f-427e-a87a-fbf65ffc8375",
     "showTitle": false,
     "tableResultSettingsMap": {},
     "title": ""
    }
   },
   "outputs": [
    {
     "name": "stdout",
     "output_type": "stream",
     "text": [
      "+--------------+--------------------+-------+----------+\n",
      "|    PersonName|                Name|Country|Discipline|\n",
      "+--------------+--------------------+-------+----------+\n",
      "|ABALDE Alberto|ZAMORA PEDREIRA J...|  Spain|Basketball|\n",
      "|ABALDE Alberto|     SCARIOLO Sergio|  Spain|Basketball|\n",
      "|ABALDE Alberto|PRADO BRANAS Joaquin|  Spain|Basketball|\n",
      "|ABALDE Alberto|MONDELO GARCIA Lucas|  Spain|Basketball|\n",
      "|ABALDE Alberto| MIRET GARCIA Daniel|  Spain|Basketball|\n",
      "|ABALDE Alberto| LAZARO CORRAL Jesus|  Spain|Basketball|\n",
      "|ABALDE Alberto|HERNANDEZ FRAILE ...|  Spain|Basketball|\n",
      "|ABALDE Alberto|GONZALEZ JARENO A...|  Spain|Basketball|\n",
      "|ABALDE Alberto|DIAZ FERNANDEZ Je...|  Spain|Basketball|\n",
      "|ABALDE Alberto|ALLER CARBALLO Ma...|  Spain|Basketball|\n",
      "| ABALDE Tamara|ZAMORA PEDREIRA J...|  Spain|Basketball|\n",
      "| ABALDE Tamara|     SCARIOLO Sergio|  Spain|Basketball|\n",
      "| ABALDE Tamara|PRADO BRANAS Joaquin|  Spain|Basketball|\n",
      "| ABALDE Tamara|MONDELO GARCIA Lucas|  Spain|Basketball|\n",
      "| ABALDE Tamara| MIRET GARCIA Daniel|  Spain|Basketball|\n",
      "| ABALDE Tamara| LAZARO CORRAL Jesus|  Spain|Basketball|\n",
      "| ABALDE Tamara|HERNANDEZ FRAILE ...|  Spain|Basketball|\n",
      "| ABALDE Tamara|GONZALEZ JARENO A...|  Spain|Basketball|\n",
      "| ABALDE Tamara|DIAZ FERNANDEZ Je...|  Spain|Basketball|\n",
      "| ABALDE Tamara|ALLER CARBALLO Ma...|  Spain|Basketball|\n",
      "+--------------+--------------------+-------+----------+\n",
      "only showing top 20 rows\n",
      "\n"
     ]
    }
   ],
   "source": [
    "athlete_coach = athletes.join(coaches, on=[\"Country\", \"Discipline\"], how=\"inner\")\n",
    "athlete_coach.select(\"PersonName\", \"Name\", \"Country\", \"Discipline\").show()\n"
   ]
  },
  {
   "cell_type": "markdown",
   "metadata": {
    "application/vnd.databricks.v1+cell": {
     "cellMetadata": {},
     "inputWidgets": {},
     "nuid": "14f4fffa-feda-446e-9479-1bdc671a1d8b",
     "showTitle": false,
     "tableResultSettingsMap": {},
     "title": ""
    }
   },
   "source": [
    "## Identify disciplines with the highest number of female participants\n"
   ]
  },
  {
   "cell_type": "code",
   "execution_count": 0,
   "metadata": {
    "application/vnd.databricks.v1+cell": {
     "cellMetadata": {
      "byteLimit": 2048000,
      "rowLimit": 10000
     },
     "inputWidgets": {},
     "nuid": "7576d129-4b50-4916-9b49-e38e419a90db",
     "showTitle": false,
     "tableResultSettingsMap": {},
     "title": ""
    }
   },
   "outputs": [
    {
     "name": "stdout",
     "output_type": "stream",
     "text": [
      "+-------------------+------+\n",
      "|         Discipline|Female|\n",
      "+-------------------+------+\n",
      "|          Athletics|   969|\n",
      "|           Swimming|   361|\n",
      "|           Football|   264|\n",
      "|             Rowing|   257|\n",
      "|             Hockey|   192|\n",
      "|               Judo|   192|\n",
      "|           Shooting|   178|\n",
      "|            Sailing|   175|\n",
      "|           Handball|   168|\n",
      "|       Rugby Sevens|   146|\n",
      "|         Basketball|   144|\n",
      "|         Volleyball|   144|\n",
      "|       Canoe Sprint|   123|\n",
      "|         Water Polo|   122|\n",
      "|            Fencing|   107|\n",
      "|  Artistic Swimming|   105|\n",
      "|             Boxing|   102|\n",
      "|Artistic Gymnastics|    98|\n",
      "|      Weightlifting|    98|\n",
      "|Rhythmic Gymnastics|    96|\n",
      "+-------------------+------+\n",
      "only showing top 20 rows\n",
      "\n"
     ]
    }
   ],
   "source": [
    "entriesgender.orderBy(col(\"Female\").desc()).select(\"Discipline\", \"Female\").show()\n"
   ]
  },
  {
   "cell_type": "markdown",
   "metadata": {
    "application/vnd.databricks.v1+cell": {
     "cellMetadata": {},
     "inputWidgets": {},
     "nuid": "4e91dc86-8b16-4a86-b01d-1f229162627a",
     "showTitle": false,
     "tableResultSettingsMap": {},
     "title": ""
    }
   },
   "source": [
    "## Calculate gender participation ratio"
   ]
  },
  {
   "cell_type": "code",
   "execution_count": 0,
   "metadata": {
    "application/vnd.databricks.v1+cell": {
     "cellMetadata": {
      "byteLimit": 2048000,
      "rowLimit": 10000
     },
     "inputWidgets": {},
     "nuid": "b14f4d92-2341-4803-8423-ef3ba015e7fa",
     "showTitle": false,
     "tableResultSettingsMap": {},
     "title": ""
    }
   },
   "outputs": [
    {
     "name": "stdout",
     "output_type": "stream",
     "text": [
      "+--------------------+--------------------+\n",
      "|          Discipline|Female_to_Male_Ratio|\n",
      "+--------------------+--------------------+\n",
      "|Cycling BMX Frees...|  1.1111111111111112|\n",
      "|              Diving|  1.0140845070422535|\n",
      "|            Handball|                 1.0|\n",
      "| Artistic Gymnastics|                 1.0|\n",
      "|              Hockey|                 1.0|\n",
      "|Trampoline Gymnas...|                 1.0|\n",
      "|           Triathlon|                 1.0|\n",
      "|           Taekwondo|                 1.0|\n",
      "|          Basketball|                 1.0|\n",
      "|    Beach Volleyball|                 1.0|\n",
      "|   Marathon Swimming|                 1.0|\n",
      "|      3x3 Basketball|                 1.0|\n",
      "|   Modern Pentathlon|                 1.0|\n",
      "|Cycling Mountain ...|                 1.0|\n",
      "|             Sailing|                 1.0|\n",
      "|          Volleyball|                 1.0|\n",
      "|             Surfing|                 1.0|\n",
      "|            Shooting|                 1.0|\n",
      "|        Table Tennis|                 1.0|\n",
      "|       Skateboarding|                 1.0|\n",
      "+--------------------+--------------------+\n",
      "only showing top 20 rows\n",
      "\n"
     ]
    }
   ],
   "source": [
    "entriesgender = entriesgender.withColumn(\"Female_to_Male_Ratio\", (col(\"Female\")/col(\"Male\")).cast(\"double\"))\n",
    "entriesgender.select(\"Discipline\", \"Female_to_Male_Ratio\").orderBy(col(\"Female_to_Male_Ratio\").desc()).show()\n"
   ]
  },
  {
   "cell_type": "markdown",
   "metadata": {
    "application/vnd.databricks.v1+cell": {
     "cellMetadata": {},
     "inputWidgets": {},
     "nuid": "32154395-3e3f-44e3-982c-067652a59183",
     "showTitle": false,
     "tableResultSettingsMap": {},
     "title": ""
    }
   },
   "source": [
    "## Top 5 countries by total medals"
   ]
  },
  {
   "cell_type": "code",
   "execution_count": 0,
   "metadata": {
    "application/vnd.databricks.v1+cell": {
     "cellMetadata": {
      "byteLimit": 2048000,
      "rowLimit": 10000
     },
     "inputWidgets": {},
     "nuid": "99cf1639-6a29-4261-9e97-1911c3fd6645",
     "showTitle": false,
     "tableResultSettingsMap": {},
     "title": ""
    }
   },
   "outputs": [
    {
     "name": "stdout",
     "output_type": "stream",
     "text": [
      "+--------------------+-----+\n",
      "|         TeamCountry|Total|\n",
      "+--------------------+-----+\n",
      "|United States of ...|  113|\n",
      "|People's Republic...|   88|\n",
      "|                 ROC|   71|\n",
      "|       Great Britain|   65|\n",
      "|               Japan|   58|\n",
      "+--------------------+-----+\n",
      "only showing top 5 rows\n",
      "\n"
     ]
    }
   ],
   "source": [
    "medals.orderBy(col(\"Total\").desc()).select(\"TeamCountry\", \"Total\").show(5)\n"
   ]
  },
  {
   "cell_type": "markdown",
   "metadata": {
    "application/vnd.databricks.v1+cell": {
     "cellMetadata": {},
     "inputWidgets": {},
     "nuid": "0257bbf4-8d7f-4437-8f4d-0a66bad8d6d5",
     "showTitle": false,
     "tableResultSettingsMap": {},
     "title": ""
    }
   },
   "source": [
    "## Which disciplines have the most total participation"
   ]
  },
  {
   "cell_type": "code",
   "execution_count": 0,
   "metadata": {
    "application/vnd.databricks.v1+cell": {
     "cellMetadata": {
      "byteLimit": 2048000,
      "rowLimit": 10000
     },
     "inputWidgets": {},
     "nuid": "96b02029-3867-4f15-85fe-597db69261d5",
     "showTitle": false,
     "tableResultSettingsMap": {},
     "title": ""
    }
   },
   "outputs": [
    {
     "name": "stdout",
     "output_type": "stream",
     "text": [
      "+-----------------+-------------------+\n",
      "|       Discipline|Total_Participation|\n",
      "+-----------------+-------------------+\n",
      "|        Athletics|               2041|\n",
      "|         Swimming|                779|\n",
      "|         Football|                608|\n",
      "|           Rowing|                522|\n",
      "|             Judo|                393|\n",
      "|           Hockey|                384|\n",
      "|         Shooting|                356|\n",
      "|          Sailing|                350|\n",
      "|         Handball|                336|\n",
      "|     Rugby Sevens|                297|\n",
      "|           Boxing|                289|\n",
      "|        Wrestling|                289|\n",
      "|       Basketball|                288|\n",
      "|       Volleyball|                288|\n",
      "|       Water Polo|                268|\n",
      "|     Canoe Sprint|                249|\n",
      "|Baseball/Softball|                234|\n",
      "|          Fencing|                215|\n",
      "|     Cycling Road|                201|\n",
      "|       Equestrian|                198|\n",
      "+-----------------+-------------------+\n",
      "only showing top 20 rows\n",
      "\n"
     ]
    }
   ],
   "source": [
    "discipline_participation = entriesgender.groupBy(\"Discipline\") \\\n",
    "                                        .agg(spark_sum(\"Total\").alias(\"Total_Participation\")) \\\n",
    "                                        .orderBy(col(\"Total_Participation\").desc())\n",
    "discipline_participation.show()\n"
   ]
  },
  {
   "cell_type": "markdown",
   "metadata": {
    "application/vnd.databricks.v1+cell": {
     "cellMetadata": {},
     "inputWidgets": {},
     "nuid": "edda3db1-93db-4310-8dc8-5d0a34408af7",
     "showTitle": false,
     "tableResultSettingsMap": {},
     "title": ""
    }
   },
   "source": [
    "##  Teams with only one gender participating\n",
    "\n"
   ]
  },
  {
   "cell_type": "code",
   "execution_count": 0,
   "metadata": {
    "application/vnd.databricks.v1+cell": {
     "cellMetadata": {
      "byteLimit": 2048000,
      "rowLimit": 10000
     },
     "inputWidgets": {},
     "nuid": "8472bfef-1d58-45ad-ad3c-605d5153571f",
     "showTitle": false,
     "tableResultSettingsMap": {},
     "title": ""
    }
   },
   "outputs": [
    {
     "name": "stdout",
     "output_type": "stream",
     "text": [
      "+--------------------+-------------------+--------------+\n",
      "|             Country|         Discipline|Gender_Variety|\n",
      "+--------------------+-------------------+--------------+\n",
      "|             Tunisia|            Archery|             1|\n",
      "|          Kazakhstan|  Artistic Swimming|             1|\n",
      "|              Serbia|         Water Polo|             1|\n",
      "|             Belarus|            Archery|             1|\n",
      "|      Czech Republic|          Athletics|             1|\n",
      "|              Canada|         Basketball|             1|\n",
      "|People's Republic...|           Football|             1|\n",
      "|          Uzbekistan|Rhythmic Gymnastics|             1|\n",
      "|             Tunisia|            Fencing|             1|\n",
      "|         Netherlands|          Triathlon|             1|\n",
      "|               Italy|Rhythmic Gymnastics|             1|\n",
      "|       C�te d'Ivoire|           Football|             1|\n",
      "|              France|       Rugby Sevens|             1|\n",
      "|              Turkey|            Archery|             1|\n",
      "|       Great Britain|          Triathlon|             1|\n",
      "|           Australia|  Baseball/Softball|             1|\n",
      "|              France|           Football|             1|\n",
      "|                 ROC|         Water Polo|             1|\n",
      "|           Australia|Rhythmic Gymnastics|             1|\n",
      "|              Brazil|Rhythmic Gymnastics|             1|\n",
      "+--------------------+-------------------+--------------+\n",
      "only showing top 20 rows\n",
      "\n"
     ]
    }
   ],
   "source": [
    "teams_gender = teams.groupBy(\"Country\", \"Discipline\").agg(count(\"Event\").alias(\"Gender_Variety\"))\n",
    "teams_gender.filter(col(\"Gender_Variety\") == 1).show()\n"
   ]
  },
  {
   "cell_type": "markdown",
   "metadata": {
    "application/vnd.databricks.v1+cell": {
     "cellMetadata": {},
     "inputWidgets": {},
     "nuid": "c7d399a6-f0ee-4054-90ff-917b1432371b",
     "showTitle": false,
     "tableResultSettingsMap": {},
     "title": ""
    }
   },
   "source": [
    "## Create a Struct combining Medal Counts"
   ]
  },
  {
   "cell_type": "code",
   "execution_count": 0,
   "metadata": {
    "application/vnd.databricks.v1+cell": {
     "cellMetadata": {
      "byteLimit": 2048000,
      "rowLimit": 10000
     },
     "inputWidgets": {},
     "nuid": "16706362-8356-4b2a-ab13-b43030358ff3",
     "showTitle": false,
     "tableResultSettingsMap": {},
     "title": ""
    }
   },
   "outputs": [
    {
     "name": "stdout",
     "output_type": "stream",
     "text": [
      "+--------------------------+-------------+\n",
      "|TeamCountry               |Medals_Struct|\n",
      "+--------------------------+-------------+\n",
      "|United States of America  |{39, 41, 33} |\n",
      "|People's Republic of China|{38, 32, 18} |\n",
      "|Japan                     |{27, 14, 17} |\n",
      "|Great Britain             |{22, 21, 22} |\n",
      "|ROC                       |{20, 28, 23} |\n",
      "+--------------------------+-------------+\n",
      "only showing top 5 rows\n",
      "\n"
     ]
    }
   ],
   "source": [
    "medals = medals.withColumn(\"Medals_Struct\", struct(col(\"Gold\"), col(\"Silver\"), col(\"Bronze\")))\n",
    "medals.select(\"TeamCountry\", \"Medals_Struct\").show(5, truncate=False)\n"
   ]
  },
  {
   "cell_type": "markdown",
   "metadata": {
    "application/vnd.databricks.v1+cell": {
     "cellMetadata": {},
     "inputWidgets": {},
     "nuid": "f2d988ad-e1e9-4327-9193-dfc4b3475a4c",
     "showTitle": false,
     "tableResultSettingsMap": {},
     "title": ""
    }
   },
   "source": [
    "## Calculate medal efficiency "
   ]
  },
  {
   "cell_type": "code",
   "execution_count": 0,
   "metadata": {
    "application/vnd.databricks.v1+cell": {
     "cellMetadata": {
      "byteLimit": 2048000,
      "rowLimit": 10000
     },
     "inputWidgets": {},
     "nuid": "50eb8c79-7650-4972-9aa9-081cb01fa683",
     "showTitle": false,
     "tableResultSettingsMap": {},
     "title": ""
    }
   },
   "outputs": [
    {
     "name": "stdout",
     "output_type": "stream",
     "text": [
      "+--------------------+----------------+\n",
      "|         TeamCountry|Medal_Efficiency|\n",
      "+--------------------+----------------+\n",
      "|United States of ...|           0.226|\n",
      "|People's Republic...|           0.176|\n",
      "|               Japan|           0.116|\n",
      "|       Great Britain|            0.13|\n",
      "|                 ROC|           0.142|\n",
      "+--------------------+----------------+\n",
      "only showing top 5 rows\n",
      "\n"
     ]
    }
   ],
   "source": [
    "# Assuming we had participants count for countries (approximate using entriesgender total per discipline)\n",
    "\n",
    "medals = medals.withColumn(\"Medal_Efficiency\", (col(\"Total\")/lit(500)).cast(\"double\"))\n",
    "medals.select(\"TeamCountry\", \"Medal_Efficiency\").show(5)\n"
   ]
  },
  {
   "cell_type": "markdown",
   "metadata": {
    "application/vnd.databricks.v1+cell": {
     "cellMetadata": {},
     "inputWidgets": {},
     "nuid": "21ab94ea-47e7-4e8c-b8cf-21c87636ee04",
     "showTitle": false,
     "tableResultSettingsMap": {},
     "title": ""
    }
   },
   "source": [
    "## Create a UDF to categorize countries based on medals won"
   ]
  },
  {
   "cell_type": "code",
   "execution_count": 0,
   "metadata": {
    "application/vnd.databricks.v1+cell": {
     "cellMetadata": {
      "byteLimit": 2048000,
      "rowLimit": 10000
     },
     "inputWidgets": {},
     "nuid": "45f75a50-e6f3-4b38-ae81-65f00dc5ee6c",
     "showTitle": false,
     "tableResultSettingsMap": {},
     "title": ""
    }
   },
   "outputs": [
    {
     "name": "stdout",
     "output_type": "stream",
     "text": [
      "+--------------------+-----+----------------+\n",
      "|         TeamCountry|Total|Country_Category|\n",
      "+--------------------+-----+----------------+\n",
      "|United States of ...|  113|      Superpower|\n",
      "|People's Republic...|   88|      Superpower|\n",
      "|               Japan|   58|          Strong|\n",
      "|       Great Britain|   65|          Strong|\n",
      "|                 ROC|   71|          Strong|\n",
      "|           Australia|   46|          Strong|\n",
      "|         Netherlands|   36|          Strong|\n",
      "|              France|   33|          Strong|\n",
      "|             Germany|   37|          Strong|\n",
      "|               Italy|   40|          Strong|\n",
      "+--------------------+-----+----------------+\n",
      "only showing top 10 rows\n",
      "\n"
     ]
    }
   ],
   "source": [
    "from pyspark.sql.functions import udf\n",
    "from pyspark.sql.types import StringType\n",
    "\n",
    "def categorize_country(total_medals):\n",
    "    if total_medals >= 80:\n",
    "        return \"Superpower\"\n",
    "    elif total_medals >= 30:\n",
    "        return \"Strong\"\n",
    "    elif total_medals >= 10:\n",
    "        return \"Average\"\n",
    "    else:\n",
    "        return \"Developing\"\n",
    "\n",
    "category_udf = udf(categorize_country, StringType())\n",
    "\n",
    "medals = medals.withColumn(\"Country_Category\", category_udf(col(\"Total\")))\n",
    "medals.select(\"TeamCountry\", \"Total\", \"Country_Category\").show(10)\n"
   ]
  },
  {
   "cell_type": "markdown",
   "metadata": {
    "application/vnd.databricks.v1+cell": {
     "cellMetadata": {},
     "inputWidgets": {},
     "nuid": "9bffa28b-7896-411b-a244-0d1e523346bb",
     "showTitle": false,
     "tableResultSettingsMap": {},
     "title": ""
    }
   },
   "source": [
    "##  Window function: Rank countries within medal categories"
   ]
  },
  {
   "cell_type": "code",
   "execution_count": 0,
   "metadata": {
    "application/vnd.databricks.v1+cell": {
     "cellMetadata": {
      "byteLimit": 2048000,
      "rowLimit": 10000
     },
     "inputWidgets": {},
     "nuid": "85c399fa-6ac2-41ea-b4e4-c0c5a0dfae1a",
     "showTitle": false,
     "tableResultSettingsMap": {},
     "title": ""
    }
   },
   "outputs": [
    {
     "name": "stdout",
     "output_type": "stream",
     "text": [
      "+-----------------+----------------+----------------+\n",
      "|      TeamCountry|Country_Category|Rank_in_Category|\n",
      "+-----------------+----------------+----------------+\n",
      "|           Canada|         Average|               1|\n",
      "|           Brazil|         Average|               2|\n",
      "|      New Zealand|         Average|               3|\n",
      "|          Hungary|         Average|               3|\n",
      "|Republic of Korea|         Average|               3|\n",
      "|          Ukraine|         Average|               6|\n",
      "|            Spain|         Average|               7|\n",
      "|             Cuba|         Average|               8|\n",
      "|           Poland|         Average|               9|\n",
      "|      Switzerland|         Average|              10|\n",
      "|           Turkey|         Average|              10|\n",
      "|   Chinese Taipei|         Average|              12|\n",
      "|   Czech Republic|         Average|              13|\n",
      "|          Denmark|         Average|              13|\n",
      "|            Kenya|         Average|              15|\n",
      "|          Jamaica|      Developing|               1|\n",
      "|           Sweden|      Developing|               1|\n",
      "|           Serbia|      Developing|               1|\n",
      "|           Norway|      Developing|               4|\n",
      "|          Croatia|      Developing|               4|\n",
      "+-----------------+----------------+----------------+\n",
      "only showing top 20 rows\n",
      "\n"
     ]
    }
   ],
   "source": [
    "windowSpec = Window.partitionBy(\"Country_Category\").orderBy(col(\"Total\").desc())\n",
    "\n",
    "medals = medals.withColumn(\"Rank_in_Category\", rank().over(windowSpec))\n",
    "medals.select(\"TeamCountry\", \"Country_Category\", \"Rank_in_Category\").show()\n"
   ]
  },
  {
   "cell_type": "markdown",
   "metadata": {
    "application/vnd.databricks.v1+cell": {
     "cellMetadata": {},
     "inputWidgets": {},
     "nuid": "101d3204-467a-4273-b6a0-ecd6eb793d14",
     "showTitle": false,
     "tableResultSettingsMap": {},
     "title": ""
    }
   },
   "source": [
    "## Teams with most diversity"
   ]
  },
  {
   "cell_type": "code",
   "execution_count": 0,
   "metadata": {
    "application/vnd.databricks.v1+cell": {
     "cellMetadata": {
      "byteLimit": 2048000,
      "rowLimit": 10000
     },
     "inputWidgets": {},
     "nuid": "def04e00-b605-4adb-b35a-d00126363a80",
     "showTitle": false,
     "tableResultSettingsMap": {},
     "title": ""
    }
   },
   "outputs": [
    {
     "name": "stdout",
     "output_type": "stream",
     "text": [
      "+--------------------+-------------+\n",
      "|             Country|Unique_Events|\n",
      "+--------------------+-------------+\n",
      "|United States of ...|           31|\n",
      "|               Italy|           30|\n",
      "|               Japan|           28|\n",
      "|             Germany|           27|\n",
      "|              France|           25|\n",
      "|                 ROC|           25|\n",
      "|           Australia|           24|\n",
      "|       Great Britain|           23|\n",
      "|              Canada|           23|\n",
      "|People's Republic...|           21|\n",
      "|         Netherlands|           20|\n",
      "|              Poland|           18|\n",
      "|              Brazil|           15|\n",
      "|   Republic of Korea|           13|\n",
      "|             Hungary|           13|\n",
      "|               Spain|           11|\n",
      "|         Switzerland|           11|\n",
      "|               Egypt|           11|\n",
      "|             Ukraine|           10|\n",
      "|    Hong Kong, China|            9|\n",
      "+--------------------+-------------+\n",
      "only showing top 20 rows\n",
      "\n"
     ]
    }
   ],
   "source": [
    "teams_diversity = teams.groupBy(\"Country\").agg(countDistinct(\"Event\").alias(\"Unique_Events\"))\n",
    "teams_diversity.orderBy(col(\"Unique_Events\").desc()).show()\n"
   ]
  },
  {
   "cell_type": "markdown",
   "metadata": {
    "application/vnd.databricks.v1+cell": {
     "cellMetadata": {},
     "inputWidgets": {},
     "nuid": "d47c6b22-8af9-4cf5-8f93-66f315ad1b51",
     "showTitle": false,
     "tableResultSettingsMap": {},
     "title": ""
    }
   },
   "source": [
    "## Save processed data"
   ]
  },
  {
   "cell_type": "code",
   "execution_count": 0,
   "metadata": {
    "application/vnd.databricks.v1+cell": {
     "cellMetadata": {
      "byteLimit": 2048000,
      "rowLimit": 10000
     },
     "inputWidgets": {},
     "nuid": "f3c79622-ea8c-407c-8a33-758e555175e6",
     "showTitle": false,
     "tableResultSettingsMap": {},
     "title": ""
    }
   },
   "outputs": [],
   "source": [
    "athletes.repartition(1).write.mode(\"overwrite\").option(\"header\",'true').csv(\"/mnt/tokyoolymic/transformed-data/athletes\")\n",
    "coaches.repartition(1).write.mode(\"overwrite\").option(\"header\",\"true\").csv(\"/mnt/tokyoolymic/transformed-data/coaches\")\n",
    "entriesgender.repartition(1).write.mode(\"overwrite\").option(\"header\",\"true\").csv(\"/mnt/tokyoolymic/transformed-data/entriesgender\")\n",
    "medals.repartition(1).write.mode(\"overwrite\").option(\"header\",\"true\").csv(\"/mnt/tokyoolymic/transformed-data/medals\")\n",
    "teams.repartition(1).write.mode(\"overwrite\").option(\"header\",\"true\").csv(\"/mnt/tokyoolymic/transformed-data/teams\")"
   ]
  },
  {
   "cell_type": "code",
   "execution_count": 0,
   "metadata": {
    "application/vnd.databricks.v1+cell": {
     "cellMetadata": {},
     "inputWidgets": {},
     "nuid": "cf0df02e-48e6-4011-b3db-f902128eab96",
     "showTitle": false,
     "tableResultSettingsMap": {},
     "title": ""
    }
   },
   "outputs": [],
   "source": []
  }
 ],
 "metadata": {
  "application/vnd.databricks.v1+notebook": {
   "computePreferences": null,
   "dashboards": [],
   "environmentMetadata": {
    "base_environment": "",
    "environment_version": "2"
   },
   "inputWidgetPreferences": null,
   "language": "python",
   "notebookMetadata": {
    "mostRecentlyExecutedCommandWithImplicitDF": {
     "commandId": 7306159691989198,
     "dataframes": [
      "_sqldf"
     ]
    },
    "pythonIndentUnit": 4
   },
   "notebookName": "Olympic Transformation",
   "widgets": {}
  },
  "language_info": {
   "name": "python"
  }
 },
 "nbformat": 4,
 "nbformat_minor": 0
}
